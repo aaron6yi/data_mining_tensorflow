{
 "cells": [
  {
   "cell_type": "markdown",
   "source": [
    "# Speed Dating Match Prediction"
   ],
   "metadata": {
    "id": "8-KClw-Bwult"
   }
  },
  {
   "cell_type": "markdown",
   "source": [
    "# Task 1: Meme Competition"
   ],
   "metadata": {
    "id": "Wl4AfA-qw0C9"
   }
  },
  {
   "cell_type": "markdown",
   "source": [
    "![111.jfif](data:image/jpeg;base64,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)"
   ],
   "metadata": {
    "id": "277Py1-3gPFH"
   }
  },
  {
   "cell_type": "markdown",
   "source": [
    "# Task 2: Understand the Template"
   ],
   "metadata": {
    "id": "3UgXqHFKw4ot"
   }
  },
  {
   "cell_type": "code",
   "execution_count": 52,
   "metadata": {
    "id": "8COFXUMLmhRf"
   },
   "outputs": [],
   "source": [
    "import pandas as pd # importing pandas\n",
    "import numpy as np  # import numpy \n",
    "from sklearn.linear_model import LogisticRegression # import LogisticRegression model\n",
    "from sklearn.metrics import f1_score # import evaluation metric\n",
    "from pprint import pprint  #  import pprint"
   ]
  },
  {
   "cell_type": "code",
   "execution_count": 53,
   "metadata": {
    "colab": {
     "base_uri": "https://localhost:8080/"
    },
    "id": "zuzAozLArdNr",
    "outputId": "d90a0aa6-640d-4152-cd68-02220f03948f"
   },
   "outputs": [
    {
     "output_type": "stream",
     "name": "stdout",
     "text": [
      "Drive already mounted at /content/drive; to attempt to forcibly remount, call drive.mount(\"/content/drive\", force_remount=True).\n"
     ]
    }
   ],
   "source": [
    "from google.colab import drive # connet to google drive\n",
    "drive.mount('/content/drive')"
   ]
  },
  {
   "cell_type": "code",
   "execution_count": 54,
   "metadata": {
    "colab": {
     "base_uri": "https://localhost:8080/"
    },
    "id": "5SjX2VLvmhRi",
    "outputId": "4e47639b-ccb9-405a-edf4-8641483764bb"
   },
   "outputs": [
    {
     "output_type": "execute_result",
     "data": {
      "text/plain": [
       "(5909, 192)"
      ]
     },
     "metadata": {},
     "execution_count": 54
    }
   ],
   "source": [
    "data = pd.read_csv('/content/drive/MyDrive/train.csv') # read traning data\n",
    "data_test = pd.read_csv('/content/drive/MyDrive/test.csv') # read testing data\n",
    "data.shape # check the dimensions of the training data"
   ]
  },
  {
   "cell_type": "code",
   "execution_count": 55,
   "metadata": {
    "colab": {
     "base_uri": "https://localhost:8080/",
     "height": 282
    },
    "id": "KO5_tU95mhRi",
    "outputId": "328f0052-7942-41c5-c170-3f1245e952cb"
   },
   "outputs": [
    {
     "output_type": "execute_result",
     "data": {
      "text/plain": [
       "<matplotlib.axes._subplots.AxesSubplot at 0x7f4042cb7650>"
      ]
     },
     "metadata": {},
     "execution_count": 55
    },
    {
     "output_type": "display_data",
     "data": {
      "text/plain": [
       "<Figure size 432x288 with 1 Axes>"
      ],
      "image/png": "[encoded data removed]"
     },
     "metadata": {
      "needs_background": "light"
     }
    }
   ],
   "source": [
    "data.isnull().sum().hist() # check the number of null values in that bin"
   ]
  },
  {
   "cell_type": "code",
   "execution_count": 56,
   "metadata": {
    "colab": {
     "base_uri": "https://localhost:8080/",
     "height": 282
    },
    "id": "4b_BKbNAmhRi",
    "outputId": "64ba5c52-3f79-48ce-90db-87181e9503d3"
   },
   "outputs": [
    {
     "output_type": "execute_result",
     "data": {
      "text/plain": [
       "<matplotlib.axes._subplots.AxesSubplot at 0x7f4042c83e50>"
      ]
     },
     "metadata": {},
     "execution_count": 56
    },
    {
     "output_type": "display_data",
     "data": {
      "text/plain": [
       "<Figure size 432x288 with 1 Axes>"
      ],
      "image/png": "[encoded data removed]"
     },
     "metadata": {
      "needs_background": "light"
     }
    }
   ],
   "source": [
    "# check the distribution of 'match' attribute\n",
    "data['match'].hist()"
   ]
  },
  {
   "cell_type": "code",
   "execution_count": 57,
   "metadata": {
    "colab": {
     "base_uri": "https://localhost:8080/"
    },
    "id": "syHVFkbumhRj",
    "outputId": "38260f31-a3de-47dc-c0e6-9047bf8a5801"
   },
   "outputs": [
    {
     "output_type": "stream",
     "name": "stdout",
     "text": [
      "Looking in indexes: https://pypi.org/simple, https://us-python.pkg.dev/colab-wheels/public/simple/\n",
      "Requirement already satisfied: scikit-optimize in /usr/local/lib/python3.7/dist-packages (0.9.0)\n",
      "Requirement already satisfied: scikit-learn>=0.20.0 in /usr/local/lib/python3.7/dist-packages (from scikit-optimize) (1.0.2)\n",
      "Requirement already satisfied: scipy>=0.19.1 in /usr/local/lib/python3.7/dist-packages (from scikit-optimize) (1.7.3)\n",
      "Requirement already satisfied: numpy>=1.13.3 in /usr/local/lib/python3.7/dist-packages (from scikit-optimize) (1.21.6)\n",
      "Requirement already satisfied: joblib>=0.11 in /usr/local/lib/python3.7/dist-packages (from scikit-optimize) (1.2.0)\n",
      "Requirement already satisfied: pyaml>=16.9 in /usr/local/lib/python3.7/dist-packages (from scikit-optimize) (21.10.1)\n",
      "Requirement already satisfied: PyYAML in /usr/local/lib/python3.7/dist-packages (from pyaml>=16.9->scikit-optimize) (6.0)\n",
      "Requirement already satisfied: threadpoolctl>=2.0.0 in /usr/local/lib/python3.7/dist-packages (from scikit-learn>=0.20.0->scikit-optimize) (3.1.0)\n"
     ]
    }
   ],
   "source": [
    "# if you haven't installed xgboost on your system, uncomment the line below\n",
    "# !pip install xgboost\n",
    "# if you haven't installed bayesian-optimization on your system, uncomment the line below\n",
    "!pip install scikit-optimize"
   ]
  },
  {
   "cell_type": "code",
   "execution_count": 58,
   "metadata": {
    "id": "i_MEn95FmhRj"
   },
   "outputs": [],
   "source": [
    "x = data.drop('match', axis=1)  # removing 'match' features from training data\n",
    "features_numeric = list(x.select_dtypes(include=['float64'])) # get list of all numeric attributes\n",
    "features_categorical = list(x.select_dtypes(include=['object']))# get list of all categorical\n",
    "y = data['match'] # create label for the training data"
   ]
  },
  {
   "cell_type": "code",
   "execution_count": 59,
   "metadata": {
    "colab": {
     "base_uri": "https://localhost:8080/"
    },
    "id": "fl60ph2VmhRj",
    "outputId": "22f202ee-c862-43b9-be02-9b084c82266e"
   },
   "outputs": [
    {
     "output_type": "stream",
     "name": "stdout",
     "text": [
      "['field', 'undergra', 'mn_sat', 'tuition', 'from', 'zipcode', 'income', 'career']\n"
     ]
    }
   ],
   "source": [
    "print(features_categorical) # printing the list of categories"
   ]
  },
  {
   "cell_type": "code",
   "execution_count": 60,
   "metadata": {
    "id": "plvRQ8ndmhRk"
   },
   "outputs": [],
   "source": [
    "import numpy as np\n",
    "from sklearn.compose import ColumnTransformer # import ColumnTransformer\n",
    "from sklearn.datasets import fetch_openml # fetches datasets from openml \n",
    "from sklearn.pipeline import Pipeline # import  pipeline  for assemble several steps and  cross-validation\n",
    "from sklearn.impute import SimpleImputer # import SimpleImputer for  replace missing values\n",
    "from sklearn.preprocessing import StandardScaler, OneHotEncoder  # import standard scaler and OneHotEncoder\n",
    "from sklearn.linear_model import LogisticRegression # import LogisticRegression model\n",
    "from sklearn.model_selection import train_test_split, GridSearchCV # import data spliter; GridSearchCV\n",
    "from xgboost.sklearn import XGBClassifier # import XGBoost classifier \n",
    "\n",
    "np.random.seed(0) # set random seed \n",
    "\n",
    "# apply transformerr to numeric values\n",
    "transformer_numeric = Pipeline(\n",
    "    steps=[\n",
    "        ('imputer', SimpleImputer(strategy='median')),# replace the missing values with  median\n",
    "        ('scaler', StandardScaler())] # convert feature to one scale\n",
    ")\n",
    "\n",
    "# apply transformerr to categorical values\n",
    "transformer_categorical = Pipeline(\n",
    "    steps=[\n",
    "        ('imputer', SimpleImputer(strategy='constant', fill_value='missing')), # replace missing values with 'missing'\n",
    "        ('onehot', OneHotEncoder(handle_unknown='ignore')) # one-hot encodes features and handle unknown category \n",
    "    ]\n",
    ")\n",
    "\n",
    "preprocessor = ColumnTransformer(\n",
    "    transformers=[\n",
    "        ('num', transformer_numeric, features_numeric), # apply numeric transformer to numeric features\n",
    "        ('cat', transformer_categorical, features_categorical) # apply categorical transformer to numeric features\n",
    "    ]\n",
    ")\n",
    "\n",
    "# assemble the pipiline\n",
    "full_pipline = Pipeline(\n",
    "    steps=[\n",
    "        ('preprocessor', preprocessor), # using preprocessing transformer for the pipeline\n",
    "        ('my_classifier', XGBClassifier(  \n",
    "            objective='binary:logistic', seed=1)) #  using XGBClassifier for the pipeline\n",
    "    ]\n",
    ")\n",
    "\n",
    "\n",
    "# hyperparameter used for GridSearch\n",
    "param_grid = {\n",
    "    'preprocessor__num__imputer__strategy': ['mean'], # overwriting imputer strategy  \n",
    "    'my_classifier__n_estimators': [10, 20, 100],  # n_estimators for random forest\n",
    "    'my_classifier__max_depth':[10, 20] # max_depth for random forest\n",
    "}\n"
   ]
  },
  {
   "cell_type": "code",
   "source": [
    "# search across parameter grid utilising the random forest, graded using ROC AUC\n",
    "grid_search = GridSearchCV(\n",
    "    full_pipline, param_grid, cv=5, verbose=3, n_jobs=2, \n",
    "    scoring='roc_auc')\n",
    "# fit in the data\n",
    "grid_search.fit(x, y)\n",
    "\n",
    "print('best score {}'.format(grid_search.best_score_)) #  best score from grid search\n",
    "print('best score {}'.format(grid_search.best_params_)) # best hyperparameters from grid search"
   ],
   "metadata": {
    "id": "a1yDu4nOFgfD",
    "colab": {
     "base_uri": "https://localhost:8080/"
    },
    "outputId": "03a93e18-5d8c-4763-c29f-72a92debabb8"
   },
   "execution_count": 61,
   "outputs": [
    {
     "output_type": "stream",
     "name": "stdout",
     "text": [
      "Fitting 5 folds for each of 6 candidates, totalling 30 fits\n",
      "best score 0.8789401909943632\n",
      "best score {'my_classifier__max_depth': 10, 'my_classifier__n_estimators': 100, 'preprocessor__num__imputer__strategy': 'mean'}\n"
     ]
    }
   ]
  },
  {
   "cell_type": "code",
   "execution_count": 62,
   "metadata": {
    "id": "9fXH_leomhRl",
    "colab": {
     "base_uri": "https://localhost:8080/",
     "height": 424
    },
    "outputId": "63a1a918-5ffb-4fc0-aee4-569d8000a16c"
   },
   "outputs": [
    {
     "output_type": "execute_result",
     "data": {
      "text/plain": [
       "        id     match\n",
       "0      934  0.007751\n",
       "1     6539  0.698081\n",
       "2     6757  0.072405\n",
       "3     2275  0.008085\n",
       "4     1052  0.005422\n",
       "...    ...       ...\n",
       "2464  7982  0.088973\n",
       "2465  7299  0.307890\n",
       "2466  1818  0.013957\n",
       "2467   937  0.005086\n",
       "2468  6691  0.010791\n",
       "\n",
       "[2469 rows x 2 columns]"
      ],
      "text/html": [
       "\n",
       "  <div id=\"df-a1cd1e47-ad7a-4c47-8d99-6ec0e1c69c1b\">\n",
       "    <div class=\"colab-df-container\">\n",
       "      <div>\n",
       "<style scoped>\n",
       "    .dataframe tbody tr th:only-of-type {\n",
       "        vertical-align: middle;\n",
       "    }\n",
       "\n",
       "    .dataframe tbody tr th {\n",
       "        vertical-align: top;\n",
       "    }\n",
       "\n",
       "    .dataframe thead th {\n",
       "        text-align: right;\n",
       "    }\n",
       "</style>\n",
       "<table border=\"1\" class=\"dataframe\">\n",
       "  <thead>\n",
       "    <tr style=\"text-align: right;\">\n",
       "      <th></th>\n",
       "      <th>id</th>\n",
       "      <th>match</th>\n",
       "    </tr>\n",
       "  </thead>\n",
       "  <tbody>\n",
       "    <tr>\n",
       "      <th>0</th>\n",
       "      <td>934</td>\n",
       "      <td>0.007751</td>\n",
       "    </tr>\n",
       "    <tr>\n",
       "      <th>1</th>\n",
       "      <td>6539</td>\n",
       "      <td>0.698081</td>\n",
       "    </tr>\n",
       "    <tr>\n",
       "      <th>2</th>\n",
       "      <td>6757</td>\n",
       "      <td>0.072405</td>\n",
       "    </tr>\n",
       "    <tr>\n",
       "      <th>3</th>\n",
       "      <td>2275</td>\n",
       "      <td>0.008085</td>\n",
       "    </tr>\n",
       "    <tr>\n",
       "      <th>4</th>\n",
       "      <td>1052</td>\n",
       "      <td>0.005422</td>\n",
       "    </tr>\n",
       "    <tr>\n",
       "      <th>...</th>\n",
       "      <td>...</td>\n",
       "      <td>...</td>\n",
       "    </tr>\n",
       "    <tr>\n",
       "      <th>2464</th>\n",
       "      <td>7982</td>\n",
       "      <td>0.088973</td>\n",
       "    </tr>\n",
       "    <tr>\n",
       "      <th>2465</th>\n",
       "      <td>7299</td>\n",
       "      <td>0.307890</td>\n",
       "    </tr>\n",
       "    <tr>\n",
       "      <th>2466</th>\n",
       "      <td>1818</td>\n",
       "      <td>0.013957</td>\n",
       "    </tr>\n",
       "    <tr>\n",
       "      <th>2467</th>\n",
       "      <td>937</td>\n",
       "      <td>0.005086</td>\n",
       "    </tr>\n",
       "    <tr>\n",
       "      <th>2468</th>\n",
       "      <td>6691</td>\n",
       "      <td>0.010791</td>\n",
       "    </tr>\n",
       "  </tbody>\n",
       "</table>\n",
       "<p>2469 rows × 2 columns</p>\n",
       "</div>\n",
       "      <button class=\"colab-df-convert\" onclick=\"convertToInteractive('df-a1cd1e47-ad7a-4c47-8d99-6ec0e1c69c1b')\"\n",
       "              title=\"Convert this dataframe to an interactive table.\"\n",
       "              style=\"display:none;\">\n",
       "        \n",
       "  <svg xmlns=\"http://www.w3.org/2000/svg\" height=\"24px\"viewBox=\"0 0 24 24\"\n",
       "       width=\"24px\">\n",
       "    <path d=\"M0 0h24v24H0V0z\" fill=\"none\"/>\n",
       "    <path d=\"M18.56 5.44l.94 2.06.94-2.06 2.06-.94-2.06-.94-.94-2.06-.94 2.06-2.06.94zm-11 1L8.5 8.5l.94-2.06 2.06-.94-2.06-.94L8.5 2.5l-.94 2.06-2.06.94zm10 10l.94 2.06.94-2.06 2.06-.94-2.06-.94-.94-2.06-.94 2.06-2.06.94z\"/><path d=\"M17.41 7.96l-1.37-1.37c-.4-.4-.92-.59-1.43-.59-.52 0-1.04.2-1.43.59L10.3 9.45l-7.72 7.72c-.78.78-.78 2.05 0 2.83L4 21.41c.39.39.9.59 1.41.59.51 0 1.02-.2 1.41-.59l7.78-7.78 2.81-2.81c.8-.78.8-2.07 0-2.86zM5.41 20L4 18.59l7.72-7.72 1.47 1.35L5.41 20z\"/>\n",
       "  </svg>\n",
       "      </button>\n",
       "      \n",
       "  <style>\n",
       "    .colab-df-container {\n",
       "      display:flex;\n",
       "      flex-wrap:wrap;\n",
       "      gap: 12px;\n",
       "    }\n",
       "\n",
       "    .colab-df-convert {\n",
       "      background-color: #E8F0FE;\n",
       "      border: none;\n",
       "      border-radius: 50%;\n",
       "      cursor: pointer;\n",
       "      display: none;\n",
       "      fill: #1967D2;\n",
       "      height: 32px;\n",
       "      padding: 0 0 0 0;\n",
       "      width: 32px;\n",
       "    }\n",
       "\n",
       "    .colab-df-convert:hover {\n",
       "      background-color: #E2EBFA;\n",
       "      box-shadow: 0px 1px 2px rgba(60, 64, 67, 0.3), 0px 1px 3px 1px rgba(60, 64, 67, 0.15);\n",
       "      fill: #174EA6;\n",
       "    }\n",
       "\n",
       "    [theme=dark] .colab-df-convert {\n",
       "      background-color: #3B4455;\n",
       "      fill: #D2E3FC;\n",
       "    }\n",
       "\n",
       "    [theme=dark] .colab-df-convert:hover {\n",
       "      background-color: #434B5C;\n",
       "      box-shadow: 0px 1px 3px 1px rgba(0, 0, 0, 0.15);\n",
       "      filter: drop-shadow(0px 1px 2px rgba(0, 0, 0, 0.3));\n",
       "      fill: #FFFFFF;\n",
       "    }\n",
       "  </style>\n",
       "\n",
       "      <script>\n",
       "        const buttonEl =\n",
       "          document.querySelector('#df-a1cd1e47-ad7a-4c47-8d99-6ec0e1c69c1b button.colab-df-convert');\n",
       "        buttonEl.style.display =\n",
       "          google.colab.kernel.accessAllowed ? 'block' : 'none';\n",
       "\n",
       "        async function convertToInteractive(key) {\n",
       "          const element = document.querySelector('#df-a1cd1e47-ad7a-4c47-8d99-6ec0e1c69c1b');\n",
       "          const dataTable =\n",
       "            await google.colab.kernel.invokeFunction('convertToInteractive',\n",
       "                                                     [key], {});\n",
       "          if (!dataTable) return;\n",
       "\n",
       "          const docLinkHtml = 'Like what you see? Visit the ' +\n",
       "            '<a target=\"_blank\" href=https://colab.research.google.com/notebooks/data_table.ipynb>data table notebook</a>'\n",
       "            + ' to learn more about interactive tables.';\n",
       "          element.innerHTML = '';\n",
       "          dataTable['output_type'] = 'display_data';\n",
       "          await google.colab.output.renderOutput(dataTable, element);\n",
       "          const docLink = document.createElement('div');\n",
       "          docLink.innerHTML = docLinkHtml;\n",
       "          element.appendChild(docLink);\n",
       "        }\n",
       "      </script>\n",
       "    </div>\n",
       "  </div>\n",
       "  "
      ]
     },
     "metadata": {},
     "execution_count": 62
    }
   ],
   "source": [
    "# prepare submission:\n",
    "submission = pd.DataFrame() # initialising df for submission score recording\n",
    "submission['id'] = data_test['id'] #sampling 'id' for the testing predictions\n",
    "submission['match'] = grid_search.predict_proba(data_test)[:,1] #sampling 'match' for the testing predictions\n",
    "submission.to_csv('sample_submission_walkthrough.csv', index=False) # generate csv\n",
    "submission # printing results"
   ]
  },
  {
   "cell_type": "code",
   "execution_count": 63,
   "metadata": {
    "id": "CxNXYAOhmhRl"
   },
   "outputs": [],
   "source": [
    "from skopt import BayesSearchCV # import bayesian optimization\n",
    "from skopt.space import Real, Categorical, Integer # facilitating search space dimensions for integer, category, and floating data\n",
    "from sklearn.svm import SVC # import support vector classifier \n",
    "\n",
    "# pipeline for SVC\n",
    "SVC_pipline = Pipeline(\n",
    "    steps=[\n",
    "        ('preprocessor', preprocessor),  # preprocessing pipeline\n",
    "        ('my_svc', SVC(class_weight='balanced')) # use SVC with balanced class weights\n",
    "    ]\n",
    ")\n",
    "\n"
   ]
  },
  {
   "cell_type": "code",
   "source": [
    "# define search ranges for bayes \n",
    "bayes_search = BayesSearchCV(\n",
    "    SVC_pipline, # Use SVC pipeline for Bayesian Optimization\n",
    "    {\n",
    "        'my_svc__C': Real(1e-6, 1e+6, prior='log-uniform'), # search range and randomly sampled using log-uniform\n",
    "        'my_svc__gamma': Real(1e-6, 1e+1, prior='log-uniform'), # search range for kernel coefficient gamma\n",
    "        'my_svc__degree': Integer(1,8), # search  range for degree of different polynomial classifiers\n",
    "        'my_svc__kernel': Categorical(['linear', 'poly', 'rbf']),  # search with different kernel types \n",
    "    },\n",
    "    n_iter=1, # the number of iterations\n",
    "    random_state=0, # random seed\n",
    "    verbose=3, # verbosity determines the amount of printed information.\n",
    ")\n",
    "\n",
    "bayes_search.fit(x, y) # run bayes search for 1 iteration"
   ],
   "metadata": {
    "id": "vOo-G8pCFluz",
    "colab": {
     "base_uri": "https://localhost:8080/"
    },
    "outputId": "e6352d07-137d-4ac9-defd-33b5c3270d0f"
   },
   "execution_count": 64,
   "outputs": [
    {
     "output_type": "stream",
     "name": "stdout",
     "text": [
      "Fitting 5 folds for each of 1 candidates, totalling 5 fits\n",
      "[CV 1/5] END my_svc__C=2.352718564818733, my_svc__degree=6, my_svc__gamma=0.022854318128961743, my_svc__kernel=poly;, score=0.830 total time=  11.0s\n",
      "[CV 2/5] END my_svc__C=2.352718564818733, my_svc__degree=6, my_svc__gamma=0.022854318128961743, my_svc__kernel=poly;, score=0.812 total time=  12.1s\n",
      "[CV 3/5] END my_svc__C=2.352718564818733, my_svc__degree=6, my_svc__gamma=0.022854318128961743, my_svc__kernel=poly;, score=0.818 total time=   8.0s\n",
      "[CV 4/5] END my_svc__C=2.352718564818733, my_svc__degree=6, my_svc__gamma=0.022854318128961743, my_svc__kernel=poly;, score=0.821 total time=  12.1s\n",
      "[CV 5/5] END my_svc__C=2.352718564818733, my_svc__degree=6, my_svc__gamma=0.022854318128961743, my_svc__kernel=poly;, score=0.832 total time=  10.3s\n"
     ]
    },
    {
     "output_type": "execute_result",
     "data": {
      "text/plain": [
       "BayesSearchCV(estimator=Pipeline(steps=[('preprocessor',\n",
       "                                         ColumnTransformer(transformers=[('num',\n",
       "                                                                          Pipeline(steps=[('imputer',\n",
       "                                                                                           SimpleImputer(strategy='median')),\n",
       "                                                                                          ('scaler',\n",
       "                                                                                           StandardScaler())]),\n",
       "                                                                          ['positin1',\n",
       "                                                                           'pid',\n",
       "                                                                           'int_corr',\n",
       "                                                                           'age_o',\n",
       "                                                                           'race_o',\n",
       "                                                                           'pf_o_att',\n",
       "                                                                           'pf_o_sin',\n",
       "                                                                           'pf_o_int',\n",
       "                                                                           'pf_o_fun',\n",
       "                                                                           'pf_o_amb',\n",
       "                                                                           'pf_o_sha',\n",
       "                                                                           'attr_o',\n",
       "                                                                           'sinc_o',\n",
       "                                                                           'intel_o',\n",
       "                                                                           'fun_o',\n",
       "                                                                           'amb_o',\n",
       "                                                                           'shar_o'...\n",
       "              n_iter=1, random_state=0,\n",
       "              search_spaces={'my_svc__C': Real(low=1e-06, high=1000000.0, prior='log-uniform', transform='normalize'),\n",
       "                             'my_svc__degree': Integer(low=1, high=8, prior='uniform', transform='normalize'),\n",
       "                             'my_svc__gamma': Real(low=1e-06, high=10.0, prior='log-uniform', transform='normalize'),\n",
       "                             'my_svc__kernel': Categorical(categories=('linear', 'poly', 'rbf'), prior=None)},\n",
       "              verbose=3)"
      ]
     },
     "metadata": {},
     "execution_count": 64
    }
   ]
  },
  {
   "cell_type": "code",
   "execution_count": 65,
   "metadata": {
    "id": "u96u6hTgmhRm",
    "colab": {
     "base_uri": "https://localhost:8080/"
    },
    "outputId": "3b11c143-0ec9-4bd8-e0b8-21508b0d5e87"
   },
   "outputs": [
    {
     "output_type": "stream",
     "name": "stdout",
     "text": [
      "best score 0.8228142716531203\n",
      "best score OrderedDict([('my_svc__C', 2.352718564818733), ('my_svc__degree', 6), ('my_svc__gamma', 0.022854318128961743), ('my_svc__kernel', 'poly')])\n"
     ]
    }
   ],
   "source": [
    "print('best score {}'.format(bayes_search.best_score_)) # best score from bayesian optimization \n",
    "print('best score {}'.format(bayes_search.best_params_)) # best hyperparameters"
   ]
  },
  {
   "cell_type": "code",
   "execution_count": 66,
   "metadata": {
    "id": "-6gc5nmDmhRm",
    "colab": {
     "base_uri": "https://localhost:8080/"
    },
    "outputId": "8f7cc606-8ade-485f-e8bb-231f7016bea9"
   },
   "outputs": [
    {
     "output_type": "stream",
     "name": "stdout",
     "text": [
      "all the cv scores\n",
      "{'mean_fit_time': array([9.52343507]),\n",
      " 'mean_score_time': array([1.17750573]),\n",
      " 'mean_test_score': array([0.82281427]),\n",
      " 'param_my_svc__C': masked_array(data=[2.352718564818733],\n",
      "             mask=[False],\n",
      "       fill_value='?',\n",
      "            dtype=object),\n",
      " 'param_my_svc__degree': masked_array(data=[6],\n",
      "             mask=[False],\n",
      "       fill_value='?',\n",
      "            dtype=object),\n",
      " 'param_my_svc__gamma': masked_array(data=[0.022854318128961743],\n",
      "             mask=[False],\n",
      "       fill_value='?',\n",
      "            dtype=object),\n",
      " 'param_my_svc__kernel': masked_array(data=['poly'],\n",
      "             mask=[False],\n",
      "       fill_value='?',\n",
      "            dtype=object),\n",
      " 'params': [OrderedDict([('my_svc__C', 2.352718564818733),\n",
      "                         ('my_svc__degree', 6),\n",
      "                         ('my_svc__gamma', 0.022854318128961743),\n",
      "                         ('my_svc__kernel', 'poly')])],\n",
      " 'rank_test_score': array([1], dtype=int32),\n",
      " 'split0_test_score': array([0.82994924]),\n",
      " 'split1_test_score': array([0.81218274]),\n",
      " 'split2_test_score': array([0.81810491]),\n",
      " 'split3_test_score': array([0.821489]),\n",
      " 'split4_test_score': array([0.83234547]),\n",
      " 'std_fit_time': array([1.54107186]),\n",
      " 'std_score_time': array([0.20778084]),\n",
      " 'std_test_score': array([0.00746613])}\n"
     ]
    }
   ],
   "source": [
    "print('all the cv scores')\n",
    "pprint(bayes_search.cv_results_) # printing results after performing bayesian optimization"
   ]
  },
  {
   "cell_type": "markdown",
   "source": [
    "# Task 3 Problem Formulation"
   ],
   "metadata": {
    "id": "pACao8ggqi1Z"
   }
  },
  {
   "cell_type": "markdown",
   "source": [
    "**Define the problem. What is the input? What is the output? What data mining function is required? What could be the challenges? What is the impact? What is an ideal solution?**"
   ],
   "metadata": {
    "id": "xoFU_J3RqpiS"
   }
  },
  {
   "cell_type": "markdown",
   "source": [
    "the machine learning model intakes both numeric and categorical data and output classification prediction. As the data has several missing values. preprocessing techniques are necessary, before feeding data.  preprocessing and  classification functions us required for this data mining problem. In order to accelerate the data mining process, pipelines from the scikit-learn API were used to execute steps sequentially. I consider hyperparameter tuning to be the most difficult aspect since it consumes so much time. A decent set of hyperparameters may considerably improve the performance of the modal. \n",
    "alternatively, we might use an automated search method to discover the optimal model parameters."
   ],
   "metadata": {
    "id": "vHzIMA3xqxFK"
   }
  },
  {
   "cell_type": "markdown",
   "source": [
    "#Task 4 Tuning the Classifier models"
   ],
   "metadata": {
    "id": "HKEq2MLXuQzW"
   }
  },
  {
   "cell_type": "markdown",
   "source": [
    "## Trial 1-2 "
   ],
   "metadata": {
    "id": "RcY8tFeGFp2l"
   }
  },
  {
   "cell_type": "markdown",
   "source": [
    "From previous traning result we can see, XGBClassifier achieved 0.8789 accuracy and SVM achieved 0.8228 accuracy.  for the first trial, i plan to use different search algrithm to tuning SVM  see if the accuracy getting better.\n",
    "\n"
   ],
   "metadata": {
    "id": "pm6UpPMFFyLv"
   }
  },
  {
   "cell_type": "code",
   "source": [
    "from sklearn.ensemble import RandomForestClassifier #import RandomForestClassifier\n",
    "from sklearn.model_selection import train_test_split, GridSearchCV #import train_test_split, GridSearchCV\n"
   ],
   "metadata": {
    "id": "DgsFe7e3KxPC"
   },
   "execution_count": 67,
   "outputs": []
  },
  {
   "cell_type": "code",
   "source": [
    "# difine assembled pipeline \n",
    "full_pipline2 = Pipeline(\n",
    "    steps=[\n",
    "        ('preprocessor', preprocessor), # complete preprocessing transformer\n",
    "        ('my_svc', SVC(class_weight='balanced')) #  using XGBClassifier for the pipeline\n",
    "    ]\n",
    ")\n",
    "\n",
    "\n",
    "param_grid2 = {\n",
    "        'my_svc__degree': [1,8], # sampling range for degree of different polynomial classifiers\n",
    "        'my_svc__kernel':['linear', 'poly', 'rbf'], # different kernel types to try\n",
    "}"
   ],
   "metadata": {
    "id": "QY7WXvg6N30p"
   },
   "execution_count": 68,
   "outputs": []
  },
  {
   "cell_type": "code",
   "source": [
    "# search across parameter grid utilising GridSearch, graded using ROC AUC\n",
    "grid_search2 = GridSearchCV(SVC_pipline, param_grid2, cv=5,verbose=3, n_jobs=2, scoring='roc_auc')\n",
    "# fit in the data\n",
    "grid_search2.fit(x, y)\n",
    "\n",
    "print('best score {}'.format(grid_search2.best_score_)) #  best score from grid search\n",
    "print('best score {}'.format(grid_search2.best_params_)) # best hyperparameters from grid search"
   ],
   "metadata": {
    "colab": {
     "base_uri": "https://localhost:8080/"
    },
    "id": "DAxryBgyN4LW",
    "outputId": "f0452faa-d62e-4033-de43-7a6aa473b913"
   },
   "execution_count": 69,
   "outputs": [
    {
     "output_type": "stream",
     "name": "stdout",
     "text": [
      "Fitting 5 folds for each of 6 candidates, totalling 30 fits\n",
      "best score 0.8634851228104019\n",
      "best score {'my_svc__degree': 1, 'my_svc__kernel': 'poly'}\n"
     ]
    }
   ]
  },
  {
   "cell_type": "code",
   "source": [
    "from sklearn.model_selection import RandomizedSearchCV #import RandomizedSearch"
   ],
   "metadata": {
    "id": "WnoqGvkTf8bp"
   },
   "execution_count": 70,
   "outputs": []
  },
  {
   "cell_type": "code",
   "source": [
    "# search across parameter grid utilising RandomizedSearch, graded using ROC AUC\n",
    "rdm2 = RandomizedSearchCV(SVC_pipline, param_grid2,cv=5,n_iter=5, verbose=3, n_jobs=2, scoring='roc_auc' )\n",
    " \n",
    "rdm2.fit(x, y)# fit in the data\n",
    "print('best score {}'.format(rdm2.best_score_))#  best score from grid search\n",
    "print('best params {}'.format(rdm2.best_params_))# best hyperparameters from grid search"
   ],
   "metadata": {
    "colab": {
     "base_uri": "https://localhost:8080/"
    },
    "id": "eRxga-7oN4Oe",
    "outputId": "4d2a7e13-cd65-44ae-b7ba-a8dba80f1e17"
   },
   "execution_count": 71,
   "outputs": [
    {
     "output_type": "stream",
     "name": "stdout",
     "text": [
      "Fitting 5 folds for each of 5 candidates, totalling 25 fits\n",
      "best score 0.8526820877758695\n",
      "best params {'my_svc__kernel': 'rbf', 'my_svc__degree': 1}\n"
     ]
    }
   ]
  },
  {
   "cell_type": "markdown",
   "source": [
    "## Trial 3-4"
   ],
   "metadata": {
    "id": "dm05WYH7PF14"
   }
  },
  {
   "cell_type": "markdown",
   "source": [
    "it seem like SVM still not better than XGBoost classifier  after i use RandomizedSearchCV and BayesSearch for tuning the model.  in this trial, i try to use different search algrithm for tuning  XGBoost classifier"
   ],
   "metadata": {
    "id": "LFJ37m1ZOkpv"
   }
  },
  {
   "cell_type": "code",
   "source": [
    "from sklearn.model_selection import RandomizedSearchCV #import RandomizedSearch"
   ],
   "metadata": {
    "id": "7lCcAe0gwNMS"
   },
   "execution_count": 72,
   "outputs": []
  },
  {
   "cell_type": "code",
   "source": [
    "# search across parameter grid utilising RandomizedSearch, graded using ROC AUC\n",
    "rdm3 = RandomizedSearchCV(full_pipline, param_grid,cv=5,n_iter=5, verbose=3, n_jobs=2, scoring='roc_auc')\n",
    " \n",
    "rdm3.fit(x, y)# fit in the data\n",
    "print('best score {}'.format(rdm3.best_score_))#  best score from grid search\n",
    "print('best params {}'.format(rdm3.best_params_))# best hyperparameters from grid search"
   ],
   "metadata": {
    "colab": {
     "base_uri": "https://localhost:8080/"
    },
    "id": "53s_BOe3OOj8",
    "outputId": "4eb20dee-c603-4555-8a5a-b40786b09902"
   },
   "execution_count": 73,
   "outputs": [
    {
     "output_type": "stream",
     "name": "stdout",
     "text": [
      "Fitting 5 folds for each of 5 candidates, totalling 25 fits\n",
      "best score 0.8789401909943632\n",
      "best params {'preprocessor__num__imputer__strategy': 'mean', 'my_classifier__n_estimators': 100, 'my_classifier__max_depth': 10}\n"
     ]
    }
   ]
  },
  {
   "cell_type": "code",
   "source": [
    "from skopt import BayesSearchCV # import bayesian optimization\n",
    "from skopt.space import Real, Categorical, Integer # facilitating search space dimensions for integer, category, and floating data"
   ],
   "metadata": {
    "id": "puJ0SW5wzUvS"
   },
   "execution_count": 74,
   "outputs": []
  },
  {
   "cell_type": "code",
   "source": [
    "# assembled pipeline for XGBClassifier\n",
    "full_pipline = Pipeline(\n",
    "    steps=[\n",
    "        ('preprocessor', preprocessor), # apply preprocessing transformer\n",
    "        ('my_classifier', XGBClassifier(  \n",
    "            objective='binary:logistic', seed=0)) #  using XGBClassifier for the pipeline\n",
    "    ]\n",
    ")"
   ],
   "metadata": {
    "id": "lHEg2hD5ypNv"
   },
   "execution_count": 75,
   "outputs": []
  },
  {
   "cell_type": "code",
   "source": [
    "# define the search range for XGBClassifier\n",
    "xgb_params_bayes = {\n",
    " 'preprocessor__num__imputer__strategy': Categorical(['mean']), #imputer _strategy\n",
    " 'my_classifier__n_estimators': Integer(50,1000), #n_estimators\n",
    " 'my_classifier__max_depth': Integer(5,10), #max depth\n",
    " 'my_classifier__learning_rate':Real(0.01,0.2,prior='log-uniform') # learning rate\n",
    "}\n"
   ],
   "metadata": {
    "id": "KRap3nhaOMDt"
   },
   "execution_count": 102,
   "outputs": []
  },
  {
   "cell_type": "code",
   "source": [
    "# search across parameter grid utilising BayesSearch, graded using ROC AUC\n",
    "bys3 = BayesSearchCV(full_pipline, xgb_params_bayes, cv=5,n_iter=5, verbose=3, n_jobs=2,scoring='roc_auc')\n",
    "#fit in the data\n",
    "bys3.fit(x, y)\n",
    "print('best score {}'.format(bys3.best_score_))#  best score from grid search\n",
    "print('best params {}'.format(bys3.best_params_))# best hyperparameters from grid search"
   ],
   "metadata": {
    "colab": {
     "base_uri": "https://localhost:8080/"
    },
    "id": "Jc0kOna-OMG4",
    "outputId": "8c9d3c60-9bda-408a-d2e7-c67ef455925b"
   },
   "execution_count": 103,
   "outputs": [
    {
     "output_type": "stream",
     "name": "stdout",
     "text": [
      "Fitting 5 folds for each of 1 candidates, totalling 5 fits\n",
      "Fitting 5 folds for each of 1 candidates, totalling 5 fits\n",
      "Fitting 5 folds for each of 1 candidates, totalling 5 fits\n",
      "Fitting 5 folds for each of 1 candidates, totalling 5 fits\n",
      "Fitting 5 folds for each of 1 candidates, totalling 5 fits\n",
      "best score 0.8806206347859027\n",
      "best params OrderedDict([('my_classifier__learning_rate', 0.02927655230248249), ('my_classifier__max_depth', 5), ('my_classifier__n_estimators', 224), ('preprocessor__num__imputer__strategy', 'mean')])\n"
     ]
    }
   ]
  },
  {
   "cell_type": "markdown",
   "source": [
    "## Trial 5-6 RandomForestClassifier "
   ],
   "metadata": {
    "id": "NoFUbGQj1LZX"
   }
  },
  {
   "cell_type": "markdown",
   "source": [
    "try to use different classifier see if the model could have a better performace.  So,i use  RandomForestClassifier  and tuning it with GridSearch, RandomizedSearch, and BayesSearch"
   ],
   "metadata": {
    "id": "_SapCFI01UyZ"
   }
  },
  {
   "cell_type": "code",
   "source": [
    "from sklearn.ensemble import RandomForestClassifier #import RandomForestClassifier"
   ],
   "metadata": {
    "id": "k7-d1tc9txS8"
   },
   "execution_count": 78,
   "outputs": []
  },
  {
   "cell_type": "code",
   "source": [
    "# define assembled pipeline \n",
    "full_pipline1 = Pipeline(\n",
    "    steps=[\n",
    "        ('preprocessor', preprocessor), # apply preprocessing transformer\n",
    "        ('rf', RandomForestClassifier(  \n",
    "            random_state=0)) #  using XGBClassifier for the pipeline\n",
    "    ]\n",
    ")\n",
    "\n",
    "# define search ranges\n",
    "param_grid1 = {\n",
    "    'preprocessor__num__imputer__strategy': ['mean'], # overwriting imputer strategy for numeric transformer \n",
    "    'rf__n_estimators': [10, 30, 100],  # n_estimators for random forest\n",
    "    'rf__max_depth':[10, 20], # max_depth for random forest\n",
    "     'rf__criterion':['gini','entropy'], #criterion\n",
    "}\n"
   ],
   "metadata": {
    "id": "8e0KjoC0Fyoa"
   },
   "execution_count": 79,
   "outputs": []
  },
  {
   "cell_type": "code",
   "source": [
    "# search across parameter grid utilising GridSearch, graded using ROC AUC\n",
    "grid_search5 = GridSearchCV(full_pipline1, param_grid1, cv=5,verbose=3, n_jobs=2, scoring='roc_auc')\n",
    "# fit in the data\n",
    "grid_search5.fit(x, y)\n",
    "\n",
    "print('best score {}'.format(grid_search5.best_score_)) #  best score from grid search\n",
    "print('best score {}'.format(grid_search5.best_params_)) # best hyperparameters from grid search"
   ],
   "metadata": {
    "id": "7IkBTMfG2V5y",
    "colab": {
     "base_uri": "https://localhost:8080/"
    },
    "outputId": "f22b690a-4148-40f6-b49d-5c5f757b36b2"
   },
   "execution_count": 80,
   "outputs": [
    {
     "output_type": "stream",
     "name": "stdout",
     "text": [
      "Fitting 5 folds for each of 12 candidates, totalling 60 fits\n",
      "best score 0.8520907406020333\n",
      "best score {'preprocessor__num__imputer__strategy': 'mean', 'rf__criterion': 'entropy', 'rf__max_depth': 10, 'rf__n_estimators': 100}\n"
     ]
    }
   ]
  },
  {
   "cell_type": "code",
   "source": [
    "# search across parameter grid utilising RandomizedSearch, graded using ROC AUC\n",
    "rdm5 = RandomizedSearchCV(full_pipline1, param_grid1,cv=5,n_iter=5, verbose=3, n_jobs=2, scoring='roc_auc')\n",
    " # fit in the data\n",
    "rdm5.fit(x, y)\n",
    "print('best score {}'.format(rdm5.best_score_))#  best score from grid search\n",
    "print('best params {}'.format(rdm5.best_params_))# best hyperparameters from grid search"
   ],
   "metadata": {
    "id": "UuzvHj4zts4e",
    "colab": {
     "base_uri": "https://localhost:8080/"
    },
    "outputId": "92b456bd-0ab2-4aa0-d5c6-4aeec5b0d03f"
   },
   "execution_count": 81,
   "outputs": [
    {
     "output_type": "stream",
     "name": "stdout",
     "text": [
      "Fitting 5 folds for each of 5 candidates, totalling 25 fits\n",
      "best score 0.8473334786175346\n",
      "best params {'rf__n_estimators': 100, 'rf__max_depth': 10, 'rf__criterion': 'gini', 'preprocessor__num__imputer__strategy': 'mean'}\n"
     ]
    }
   ]
  },
  {
   "cell_type": "code",
   "source": [
    "  # # search across parameter grid utilising BayesSearch, graded using ROC AUC\n",
    "  # bys = BayesSearchCV(full_pipline1, param_grid1, cv=5,n_iter=1, verbose=3, n_jobs=2,scoring='roc_auc' )\n",
    "  #  # fit in the data\n",
    "  # bys.fit(x, y)\n",
    "  # print('best score {}'.format(bys.best_score_))#  best score from grid search\n",
    "  # print('best params {}'.format(bys.best_params_))# best hyperparameters from grid search"
   ],
   "metadata": {
    "id": "I5dPgbLEwOpn"
   },
   "execution_count": 82,
   "outputs": []
  },
  {
   "cell_type": "markdown",
   "source": [
    "## trial 7-8 KNeighborsClassifier"
   ],
   "metadata": {
    "id": "0EMlw5yd3tFR"
   }
  },
  {
   "cell_type": "markdown",
   "source": [
    "try to use different classifier see if the model could have a better performace.  So,i use  KNeighborsClassifier  and tuning it with GridSearch, RandomizedSearch."
   ],
   "metadata": {
    "id": "T3Umi_uf4DFL"
   }
  },
  {
   "cell_type": "code",
   "source": [
    "from sklearn.neighbors import KNeighborsClassifier #import KNeighborsClassifier"
   ],
   "metadata": {
    "id": "0QkX5KtP6nFh"
   },
   "execution_count": 83,
   "outputs": []
  },
  {
   "cell_type": "code",
   "source": [
    "# define assembled pipeline \n",
    "knn_pipeline = Pipeline(\n",
    " steps=[\n",
    "  ('preprocessor', preprocessor),  # apply preprocessing transformer\n",
    "  ('knn', KNeighborsClassifier()) # using KNeighborsClassifier \n",
    " ]\n",
    ")"
   ],
   "metadata": {
    "id": "oVL5324n1jsO"
   },
   "execution_count": 84,
   "outputs": []
  },
  {
   "cell_type": "code",
   "source": [
    "# define search ranges for knn\n",
    "knn_params = {\n",
    " 'preprocessor__num__imputer__strategy': ['mean'],\n",
    " 'knn__n_neighbors': [20,50,80,150],\n",
    " 'knn__algorithm':['auto', 'ball_tree', 'kd_tree', 'brute'],\n",
    " 'knn__p':[1,2]\n",
    "}"
   ],
   "metadata": {
    "id": "jTLTykkd9WaT"
   },
   "execution_count": 85,
   "outputs": []
  },
  {
   "cell_type": "code",
   "source": [
    "# search across parameter grid utilising GridSearch, graded using ROC AUC\n",
    "grid_search7 = GridSearchCV(knn_pipeline, knn_params, cv=2, verbose=3, n_jobs=2, scoring='roc_auc')\n",
    "# fit in the data\n",
    "grid_search7.fit(x, y)\n",
    "\n",
    "print('best score {}'.format(grid_search7.best_score_)) #  best score from grid search\n",
    "print('best score {}'.format(grid_search7.best_params_)) # best hyperparameters from grid search"
   ],
   "metadata": {
    "id": "yUXdHqlt4D2s",
    "colab": {
     "base_uri": "https://localhost:8080/"
    },
    "outputId": "d573a0d1-1a5b-424f-8926-76952c8560dd"
   },
   "execution_count": 86,
   "outputs": [
    {
     "output_type": "stream",
     "name": "stdout",
     "text": [
      "Fitting 2 folds for each of 32 candidates, totalling 64 fits\n",
      "best score 0.8226258230983909\n",
      "best score {'knn__algorithm': 'auto', 'knn__n_neighbors': 150, 'knn__p': 2, 'preprocessor__num__imputer__strategy': 'mean'}\n"
     ]
    }
   ]
  },
  {
   "cell_type": "code",
   "source": [
    "# search across parameter grid utilising RandomizedSearch, graded using ROC AUC\n",
    "rdm7 = RandomizedSearchCV( knn_pipeline, knn_params,cv=5,n_iter=5, verbose=3, n_jobs=2, scoring='roc_auc' )\n",
    " #fit in the data\n",
    "rdm7.fit(x, y)\n",
    "print('best score {}'.format(rdm7.best_score_))#  best score from grid search\n",
    "print('best params {}'.format(rdm7.best_params_))# best hyperparameters from grid search"
   ],
   "metadata": {
    "id": "M_hAZK0Q6nOK",
    "colab": {
     "base_uri": "https://localhost:8080/"
    },
    "outputId": "88a01f84-f9a3-4f0b-b6e5-46656d7a3d92"
   },
   "execution_count": 87,
   "outputs": [
    {
     "output_type": "stream",
     "name": "stdout",
     "text": [
      "Fitting 5 folds for each of 5 candidates, totalling 25 fits\n",
      "best score 0.8253817133003285\n",
      "best params {'preprocessor__num__imputer__strategy': 'mean', 'knn__p': 2, 'knn__n_neighbors': 150, 'knn__algorithm': 'ball_tree'}\n"
     ]
    },
    {
     "output_type": "stream",
     "name": "stderr",
     "text": [
      "/usr/local/lib/python3.7/dist-packages/sklearn/neighbors/_base.py:504: UserWarning: cannot use tree with sparse input: using brute force\n",
      "  warnings.warn(\"cannot use tree with sparse input: using brute force\")\n"
     ]
    }
   ]
  },
  {
   "cell_type": "code",
   "source": [
    "#  # search across parameter grid utilising BayesSearchCV, graded using ROC AUC\n",
    "#   bys = BayesSearchCV(knn_pipeline, knn_params, cv=5,n_iter=5, verbose=3, n_jobs=2,scoring='roc_auc')\n",
    "#    #fit in the data\n",
    "#   bys.fit(x, y)\n",
    "#   print('best score {}'.format(bys.best_score_)) #  best score from grid search\n",
    "#   print('best params {}'.format(bys.best_params_))# best hyperparameters from grid search"
   ],
   "metadata": {
    "id": "7GP96Wae6vkF"
   },
   "execution_count": 88,
   "outputs": []
  },
  {
   "cell_type": "markdown",
   "source": [
    "## trial 9-10 DecisionTreeClassifier"
   ],
   "metadata": {
    "id": "2v6_2jIX4-Ms"
   }
  },
  {
   "cell_type": "markdown",
   "source": [
    "try to use different classifier see if the model could have a better performace.  So,i use  DecisionTreeClassifier  and tuning it with GridSearch, RandomizedSearch"
   ],
   "metadata": {
    "id": "ZBKs_yL_T-ao"
   }
  },
  {
   "cell_type": "code",
   "source": [
    "from sklearn.tree import DecisionTreeClassifier # import DecisionTreeClassifier"
   ],
   "metadata": {
    "id": "-DVucusN42ya"
   },
   "execution_count": 89,
   "outputs": []
  },
  {
   "cell_type": "code",
   "source": [
    "# define assembled pipeline \n",
    "dt_pipeline = Pipeline(\n",
    " steps=[\n",
    "  ('preprocessor', preprocessor), # apply preprocessor transformer\n",
    "  ('dt', DecisionTreeClassifier(random_state=0)) # apply DecisionTreeClassifier\n",
    " ]\n",
    ")"
   ],
   "metadata": {
    "id": "MZHEFTGa4-_C"
   },
   "execution_count": 90,
   "outputs": []
  },
  {
   "cell_type": "code",
   "source": [
    "# define search grid for DecisionTreeClassifier\n",
    "dt_params = {\n",
    " 'preprocessor__num__imputer__strategy': ['mean'], # imputer strategy\n",
    " 'dt__criterion': ['gini','entropy'],# criterion\n",
    " 'dt__splitter': ['best','random'],# splitter\n",
    " 'dt__max_depth': [5,10,15,20],# max_depth\n",
    " 'dt__min_samples_leaf': [1,2,3,5,10],# min samples per leaf\n",
    "}"
   ],
   "metadata": {
    "id": "gK0uP1eZ_FMQ"
   },
   "execution_count": 91,
   "outputs": []
  },
  {
   "cell_type": "code",
   "source": [
    "# search across parameter grid utilising GridSearch, graded using ROC AUC\n",
    "grid_search9 = GridSearchCV(dt_pipeline, dt_params, cv=5,verbose=3, n_jobs=2, scoring='roc_auc')\n",
    "# fit in the data\n",
    "grid_search9.fit(x, y)\n",
    "\n",
    "print('best score {}'.format(grid_search9.best_score_)) #  best score from grid search\n",
    "print('best score {}'.format(grid_search9.best_params_)) # best hyperparameters from grid search"
   ],
   "metadata": {
    "id": "HGZqX8qZ6yoq",
    "colab": {
     "base_uri": "https://localhost:8080/"
    },
    "outputId": "c128af91-d544-4122-f2d3-fa72162be801"
   },
   "execution_count": 92,
   "outputs": [
    {
     "output_type": "stream",
     "name": "stdout",
     "text": [
      "Fitting 5 folds for each of 80 candidates, totalling 400 fits\n",
      "best score 0.8163030606171254\n",
      "best score {'dt__criterion': 'entropy', 'dt__max_depth': 5, 'dt__min_samples_leaf': 5, 'dt__splitter': 'best', 'preprocessor__num__imputer__strategy': 'mean'}\n"
     ]
    }
   ]
  },
  {
   "cell_type": "code",
   "source": [
    "# search across parameter grid utilising RandomizedSearchCV, graded using ROC AUC\n",
    "rdm9 = RandomizedSearchCV( dt_pipeline, dt_params,cv=5,n_iter=5, verbose=3, n_jobs=2, scoring='roc_auc' )\n",
    " \n",
    "rdm9.fit(x, y)\n",
    "print('best score {}'.format(rdm9.best_score_))#  best score from grid search\n",
    "print('best params {}'.format(rdm9.best_params_))# best hyperparameters from grid search"
   ],
   "metadata": {
    "id": "1yoz3Zio6yTy",
    "colab": {
     "base_uri": "https://localhost:8080/"
    },
    "outputId": "d35a09bb-621f-4a84-f2d0-19df08e98a04"
   },
   "execution_count": 93,
   "outputs": [
    {
     "output_type": "stream",
     "name": "stdout",
     "text": [
      "Fitting 5 folds for each of 5 candidates, totalling 25 fits\n",
      "best score 0.797831715783309\n",
      "best params {'preprocessor__num__imputer__strategy': 'mean', 'dt__splitter': 'random', 'dt__min_samples_leaf': 3, 'dt__max_depth': 5, 'dt__criterion': 'entropy'}\n"
     ]
    }
   ]
  },
  {
   "cell_type": "code",
   "source": [
    "  # # search across parameter grid utilising BayesSearch, graded using ROC AUC\n",
    "  # bys = BayesSearchCV(dt_pipeline, dt_params, cv=5,n_iter=5, verbose=3, n_jobs=2,scoring='roc_auc')\n",
    "  # # fit in the data\n",
    "  # bys.fit(x, y)\n",
    "  # print('best score {}'.format(bys.best_score_)) #  best score from grid search\n",
    "  # print('best params {}'.format(bys.best_params_))# best hyperparameters from grid search"
   ],
   "metadata": {
    "id": "cW2bMYZqG2o7"
   },
   "execution_count": 94,
   "outputs": []
  },
  {
   "cell_type": "markdown",
   "source": [
    "# Task 5 prepare the CSV for submision"
   ],
   "metadata": {
    "id": "YuLiZlBGvwgt"
   }
  },
  {
   "cell_type": "markdown",
   "source": [
    "submision"
   ],
   "metadata": {
    "id": "nvLMO1ZG2xpR"
   }
  },
  {
   "cell_type": "code",
   "source": [
    "pd.DataFrame(bys3.cv_results_) # printing results after performing bayesian optimization"
   ],
   "metadata": {
    "id": "sNjJmJ96wPH1",
    "colab": {
     "base_uri": "https://localhost:8080/",
     "height": 357
    },
    "outputId": "e97b19df-7a0f-487b-e30e-72640fec10d4"
   },
   "execution_count": 95,
   "outputs": [
    {
     "output_type": "execute_result",
     "data": {
      "text/plain": [
       "   mean_fit_time  std_fit_time  mean_score_time  std_score_time  \\\n",
       "0      86.279165     13.210893         0.247217        0.034990   \n",
       "1      99.561970     15.435218         0.266820        0.035342   \n",
       "2      64.767958      9.831641         0.205927        0.028960   \n",
       "3      31.298721      5.248231         0.148023        0.022269   \n",
       "4      69.338733     11.131618         0.222986        0.030423   \n",
       "\n",
       "  param_my_classifier__learning_rate param_my_classifier__max_depth  \\\n",
       "0                           0.029089                              8   \n",
       "1                           0.016659                              9   \n",
       "2                           0.041224                              7   \n",
       "3                           0.032506                              6   \n",
       "4                            0.01065                              7   \n",
       "\n",
       "  param_my_classifier__n_estimators  \\\n",
       "0                               998   \n",
       "1                               984   \n",
       "2                               885   \n",
       "3                               510   \n",
       "4                               957   \n",
       "\n",
       "  param_preprocessor__num__imputer__strategy  \\\n",
       "0                                       mean   \n",
       "1                                       mean   \n",
       "2                                       mean   \n",
       "3                                       mean   \n",
       "4                                       mean   \n",
       "\n",
       "                                              params  split0_test_score  \\\n",
       "0  {'my_classifier__learning_rate': 0.02908866208...           0.885300   \n",
       "1  {'my_classifier__learning_rate': 0.01665939954...           0.887011   \n",
       "2  {'my_classifier__learning_rate': 0.04122363564...           0.888248   \n",
       "3  {'my_classifier__learning_rate': 0.03250602925...           0.885717   \n",
       "4  {'my_classifier__learning_rate': 0.01064965221...           0.882563   \n",
       "\n",
       "   split1_test_score  split2_test_score  split3_test_score  split4_test_score  \\\n",
       "0           0.889741           0.875493           0.862795           0.878647   \n",
       "1           0.890824           0.878275           0.866187           0.882635   \n",
       "2           0.889864           0.874338           0.865587           0.885147   \n",
       "3           0.891773           0.873799           0.868964           0.884038   \n",
       "4           0.893785           0.873404           0.868738           0.884069   \n",
       "\n",
       "   mean_test_score  std_test_score  rank_test_score  \n",
       "0         0.878395        0.009255                5  \n",
       "1         0.880986        0.008511                1  \n",
       "2         0.880637        0.009269                3  \n",
       "3         0.880858        0.008297                2  \n",
       "4         0.880512        0.008743                4  "
      ],
      "text/html": [
       "\n",
       "  <div id=\"df-8748ba84-b5d9-4fa2-be43-f69ba82eadb9\">\n",
       "    <div class=\"colab-df-container\">\n",
       "      <div>\n",
       "<style scoped>\n",
       "    .dataframe tbody tr th:only-of-type {\n",
       "        vertical-align: middle;\n",
       "    }\n",
       "\n",
       "    .dataframe tbody tr th {\n",
       "        vertical-align: top;\n",
       "    }\n",
       "\n",
       "    .dataframe thead th {\n",
       "        text-align: right;\n",
       "    }\n",
       "</style>\n",
       "<table border=\"1\" class=\"dataframe\">\n",
       "  <thead>\n",
       "    <tr style=\"text-align: right;\">\n",
       "      <th></th>\n",
       "      <th>mean_fit_time</th>\n",
       "      <th>std_fit_time</th>\n",
       "      <th>mean_score_time</th>\n",
       "      <th>std_score_time</th>\n",
       "      <th>param_my_classifier__learning_rate</th>\n",
       "      <th>param_my_classifier__max_depth</th>\n",
       "      <th>param_my_classifier__n_estimators</th>\n",
       "      <th>param_preprocessor__num__imputer__strategy</th>\n",
       "      <th>params</th>\n",
       "      <th>split0_test_score</th>\n",
       "      <th>split1_test_score</th>\n",
       "      <th>split2_test_score</th>\n",
       "      <th>split3_test_score</th>\n",
       "      <th>split4_test_score</th>\n",
       "      <th>mean_test_score</th>\n",
       "      <th>std_test_score</th>\n",
       "      <th>rank_test_score</th>\n",
       "    </tr>\n",
       "  </thead>\n",
       "  <tbody>\n",
       "    <tr>\n",
       "      <th>0</th>\n",
       "      <td>86.279165</td>\n",
       "      <td>13.210893</td>\n",
       "      <td>0.247217</td>\n",
       "      <td>0.034990</td>\n",
       "      <td>0.029089</td>\n",
       "      <td>8</td>\n",
       "      <td>998</td>\n",
       "      <td>mean</td>\n",
       "      <td>{'my_classifier__learning_rate': 0.02908866208...</td>\n",
       "      <td>0.885300</td>\n",
       "      <td>0.889741</td>\n",
       "      <td>0.875493</td>\n",
       "      <td>0.862795</td>\n",
       "      <td>0.878647</td>\n",
       "      <td>0.878395</td>\n",
       "      <td>0.009255</td>\n",
       "      <td>5</td>\n",
       "    </tr>\n",
       "    <tr>\n",
       "      <th>1</th>\n",
       "      <td>99.561970</td>\n",
       "      <td>15.435218</td>\n",
       "      <td>0.266820</td>\n",
       "      <td>0.035342</td>\n",
       "      <td>0.016659</td>\n",
       "      <td>9</td>\n",
       "      <td>984</td>\n",
       "      <td>mean</td>\n",
       "      <td>{'my_classifier__learning_rate': 0.01665939954...</td>\n",
       "      <td>0.887011</td>\n",
       "      <td>0.890824</td>\n",
       "      <td>0.878275</td>\n",
       "      <td>0.866187</td>\n",
       "      <td>0.882635</td>\n",
       "      <td>0.880986</td>\n",
       "      <td>0.008511</td>\n",
       "      <td>1</td>\n",
       "    </tr>\n",
       "    <tr>\n",
       "      <th>2</th>\n",
       "      <td>64.767958</td>\n",
       "      <td>9.831641</td>\n",
       "      <td>0.205927</td>\n",
       "      <td>0.028960</td>\n",
       "      <td>0.041224</td>\n",
       "      <td>7</td>\n",
       "      <td>885</td>\n",
       "      <td>mean</td>\n",
       "      <td>{'my_classifier__learning_rate': 0.04122363564...</td>\n",
       "      <td>0.888248</td>\n",
       "      <td>0.889864</td>\n",
       "      <td>0.874338</td>\n",
       "      <td>0.865587</td>\n",
       "      <td>0.885147</td>\n",
       "      <td>0.880637</td>\n",
       "      <td>0.009269</td>\n",
       "      <td>3</td>\n",
       "    </tr>\n",
       "    <tr>\n",
       "      <th>3</th>\n",
       "      <td>31.298721</td>\n",
       "      <td>5.248231</td>\n",
       "      <td>0.148023</td>\n",
       "      <td>0.022269</td>\n",
       "      <td>0.032506</td>\n",
       "      <td>6</td>\n",
       "      <td>510</td>\n",
       "      <td>mean</td>\n",
       "      <td>{'my_classifier__learning_rate': 0.03250602925...</td>\n",
       "      <td>0.885717</td>\n",
       "      <td>0.891773</td>\n",
       "      <td>0.873799</td>\n",
       "      <td>0.868964</td>\n",
       "      <td>0.884038</td>\n",
       "      <td>0.880858</td>\n",
       "      <td>0.008297</td>\n",
       "      <td>2</td>\n",
       "    </tr>\n",
       "    <tr>\n",
       "      <th>4</th>\n",
       "      <td>69.338733</td>\n",
       "      <td>11.131618</td>\n",
       "      <td>0.222986</td>\n",
       "      <td>0.030423</td>\n",
       "      <td>0.01065</td>\n",
       "      <td>7</td>\n",
       "      <td>957</td>\n",
       "      <td>mean</td>\n",
       "      <td>{'my_classifier__learning_rate': 0.01064965221...</td>\n",
       "      <td>0.882563</td>\n",
       "      <td>0.893785</td>\n",
       "      <td>0.873404</td>\n",
       "      <td>0.868738</td>\n",
       "      <td>0.884069</td>\n",
       "      <td>0.880512</td>\n",
       "      <td>0.008743</td>\n",
       "      <td>4</td>\n",
       "    </tr>\n",
       "  </tbody>\n",
       "</table>\n",
       "</div>\n",
       "      <button class=\"colab-df-convert\" onclick=\"convertToInteractive('df-8748ba84-b5d9-4fa2-be43-f69ba82eadb9')\"\n",
       "              title=\"Convert this dataframe to an interactive table.\"\n",
       "              style=\"display:none;\">\n",
       "        \n",
       "  <svg xmlns=\"http://www.w3.org/2000/svg\" height=\"24px\"viewBox=\"0 0 24 24\"\n",
       "       width=\"24px\">\n",
       "    <path d=\"M0 0h24v24H0V0z\" fill=\"none\"/>\n",
       "    <path d=\"M18.56 5.44l.94 2.06.94-2.06 2.06-.94-2.06-.94-.94-2.06-.94 2.06-2.06.94zm-11 1L8.5 8.5l.94-2.06 2.06-.94-2.06-.94L8.5 2.5l-.94 2.06-2.06.94zm10 10l.94 2.06.94-2.06 2.06-.94-2.06-.94-.94-2.06-.94 2.06-2.06.94z\"/><path d=\"M17.41 7.96l-1.37-1.37c-.4-.4-.92-.59-1.43-.59-.52 0-1.04.2-1.43.59L10.3 9.45l-7.72 7.72c-.78.78-.78 2.05 0 2.83L4 21.41c.39.39.9.59 1.41.59.51 0 1.02-.2 1.41-.59l7.78-7.78 2.81-2.81c.8-.78.8-2.07 0-2.86zM5.41 20L4 18.59l7.72-7.72 1.47 1.35L5.41 20z\"/>\n",
       "  </svg>\n",
       "      </button>\n",
       "      \n",
       "  <style>\n",
       "    .colab-df-container {\n",
       "      display:flex;\n",
       "      flex-wrap:wrap;\n",
       "      gap: 12px;\n",
       "    }\n",
       "\n",
       "    .colab-df-convert {\n",
       "      background-color: #E8F0FE;\n",
       "      border: none;\n",
       "      border-radius: 50%;\n",
       "      cursor: pointer;\n",
       "      display: none;\n",
       "      fill: #1967D2;\n",
       "      height: 32px;\n",
       "      padding: 0 0 0 0;\n",
       "      width: 32px;\n",
       "    }\n",
       "\n",
       "    .colab-df-convert:hover {\n",
       "      background-color: #E2EBFA;\n",
       "      box-shadow: 0px 1px 2px rgba(60, 64, 67, 0.3), 0px 1px 3px 1px rgba(60, 64, 67, 0.15);\n",
       "      fill: #174EA6;\n",
       "    }\n",
       "\n",
       "    [theme=dark] .colab-df-convert {\n",
       "      background-color: #3B4455;\n",
       "      fill: #D2E3FC;\n",
       "    }\n",
       "\n",
       "    [theme=dark] .colab-df-convert:hover {\n",
       "      background-color: #434B5C;\n",
       "      box-shadow: 0px 1px 3px 1px rgba(0, 0, 0, 0.15);\n",
       "      filter: drop-shadow(0px 1px 2px rgba(0, 0, 0, 0.3));\n",
       "      fill: #FFFFFF;\n",
       "    }\n",
       "  </style>\n",
       "\n",
       "      <script>\n",
       "        const buttonEl =\n",
       "          document.querySelector('#df-8748ba84-b5d9-4fa2-be43-f69ba82eadb9 button.colab-df-convert');\n",
       "        buttonEl.style.display =\n",
       "          google.colab.kernel.accessAllowed ? 'block' : 'none';\n",
       "\n",
       "        async function convertToInteractive(key) {\n",
       "          const element = document.querySelector('#df-8748ba84-b5d9-4fa2-be43-f69ba82eadb9');\n",
       "          const dataTable =\n",
       "            await google.colab.kernel.invokeFunction('convertToInteractive',\n",
       "                                                     [key], {});\n",
       "          if (!dataTable) return;\n",
       "\n",
       "          const docLinkHtml = 'Like what you see? Visit the ' +\n",
       "            '<a target=\"_blank\" href=https://colab.research.google.com/notebooks/data_table.ipynb>data table notebook</a>'\n",
       "            + ' to learn more about interactive tables.';\n",
       "          element.innerHTML = '';\n",
       "          dataTable['output_type'] = 'display_data';\n",
       "          await google.colab.output.renderOutput(dataTable, element);\n",
       "          const docLink = document.createElement('div');\n",
       "          docLink.innerHTML = docLinkHtml;\n",
       "          element.appendChild(docLink);\n",
       "        }\n",
       "      </script>\n",
       "    </div>\n",
       "  </div>\n",
       "  "
      ]
     },
     "metadata": {},
     "execution_count": 95
    }
   ]
  },
  {
   "cell_type": "code",
   "source": [
    "submission = pd.DataFrame() # initializing df for recording submission scores\n",
    "submission['id'] = data_test['id'] # Series of samples for which predictions are being made\n",
    "submission['match'] = bys3.predict_proba(data_test)[:,1] # use grid search to predict probability for each sample in test split\n",
    "submission.to_csv('submission_walkthrough.csv', index=False) # generate submission csv for template\n",
    "submission # printing submission results dataframe"
   ],
   "metadata": {
    "id": "HrU8nesb1NFj",
    "colab": {
     "base_uri": "https://localhost:8080/",
     "height": 424
    },
    "outputId": "c4eb0b7a-8bab-4403-bcb1-121629d3313f"
   },
   "execution_count": 96,
   "outputs": [
    {
     "output_type": "execute_result",
     "data": {
      "text/plain": [
       "        id     match\n",
       "0      934  0.008379\n",
       "1     6539  0.808088\n",
       "2     6757  0.145475\n",
       "3     2275  0.013524\n",
       "4     1052  0.002424\n",
       "...    ...       ...\n",
       "2464  7982  0.064905\n",
       "2465  7299  0.748216\n",
       "2466  1818  0.021537\n",
       "2467   937  0.003530\n",
       "2468  6691  0.004453\n",
       "\n",
       "[2469 rows x 2 columns]"
      ],
      "text/html": [
       "\n",
       "  <div id=\"df-19cccf5f-2c70-40c8-91e5-591f16a0647b\">\n",
       "    <div class=\"colab-df-container\">\n",
       "      <div>\n",
       "<style scoped>\n",
       "    .dataframe tbody tr th:only-of-type {\n",
       "        vertical-align: middle;\n",
       "    }\n",
       "\n",
       "    .dataframe tbody tr th {\n",
       "        vertical-align: top;\n",
       "    }\n",
       "\n",
       "    .dataframe thead th {\n",
       "        text-align: right;\n",
       "    }\n",
       "</style>\n",
       "<table border=\"1\" class=\"dataframe\">\n",
       "  <thead>\n",
       "    <tr style=\"text-align: right;\">\n",
       "      <th></th>\n",
       "      <th>id</th>\n",
       "      <th>match</th>\n",
       "    </tr>\n",
       "  </thead>\n",
       "  <tbody>\n",
       "    <tr>\n",
       "      <th>0</th>\n",
       "      <td>934</td>\n",
       "      <td>0.008379</td>\n",
       "    </tr>\n",
       "    <tr>\n",
       "      <th>1</th>\n",
       "      <td>6539</td>\n",
       "      <td>0.808088</td>\n",
       "    </tr>\n",
       "    <tr>\n",
       "      <th>2</th>\n",
       "      <td>6757</td>\n",
       "      <td>0.145475</td>\n",
       "    </tr>\n",
       "    <tr>\n",
       "      <th>3</th>\n",
       "      <td>2275</td>\n",
       "      <td>0.013524</td>\n",
       "    </tr>\n",
       "    <tr>\n",
       "      <th>4</th>\n",
       "      <td>1052</td>\n",
       "      <td>0.002424</td>\n",
       "    </tr>\n",
       "    <tr>\n",
       "      <th>...</th>\n",
       "      <td>...</td>\n",
       "      <td>...</td>\n",
       "    </tr>\n",
       "    <tr>\n",
       "      <th>2464</th>\n",
       "      <td>7982</td>\n",
       "      <td>0.064905</td>\n",
       "    </tr>\n",
       "    <tr>\n",
       "      <th>2465</th>\n",
       "      <td>7299</td>\n",
       "      <td>0.748216</td>\n",
       "    </tr>\n",
       "    <tr>\n",
       "      <th>2466</th>\n",
       "      <td>1818</td>\n",
       "      <td>0.021537</td>\n",
       "    </tr>\n",
       "    <tr>\n",
       "      <th>2467</th>\n",
       "      <td>937</td>\n",
       "      <td>0.003530</td>\n",
       "    </tr>\n",
       "    <tr>\n",
       "      <th>2468</th>\n",
       "      <td>6691</td>\n",
       "      <td>0.004453</td>\n",
       "    </tr>\n",
       "  </tbody>\n",
       "</table>\n",
       "<p>2469 rows × 2 columns</p>\n",
       "</div>\n",
       "      <button class=\"colab-df-convert\" onclick=\"convertToInteractive('df-19cccf5f-2c70-40c8-91e5-591f16a0647b')\"\n",
       "              title=\"Convert this dataframe to an interactive table.\"\n",
       "              style=\"display:none;\">\n",
       "        \n",
       "  <svg xmlns=\"http://www.w3.org/2000/svg\" height=\"24px\"viewBox=\"0 0 24 24\"\n",
       "       width=\"24px\">\n",
       "    <path d=\"M0 0h24v24H0V0z\" fill=\"none\"/>\n",
       "    <path d=\"M18.56 5.44l.94 2.06.94-2.06 2.06-.94-2.06-.94-.94-2.06-.94 2.06-2.06.94zm-11 1L8.5 8.5l.94-2.06 2.06-.94-2.06-.94L8.5 2.5l-.94 2.06-2.06.94zm10 10l.94 2.06.94-2.06 2.06-.94-2.06-.94-.94-2.06-.94 2.06-2.06.94z\"/><path d=\"M17.41 7.96l-1.37-1.37c-.4-.4-.92-.59-1.43-.59-.52 0-1.04.2-1.43.59L10.3 9.45l-7.72 7.72c-.78.78-.78 2.05 0 2.83L4 21.41c.39.39.9.59 1.41.59.51 0 1.02-.2 1.41-.59l7.78-7.78 2.81-2.81c.8-.78.8-2.07 0-2.86zM5.41 20L4 18.59l7.72-7.72 1.47 1.35L5.41 20z\"/>\n",
       "  </svg>\n",
       "      </button>\n",
       "      \n",
       "  <style>\n",
       "    .colab-df-container {\n",
       "      display:flex;\n",
       "      flex-wrap:wrap;\n",
       "      gap: 12px;\n",
       "    }\n",
       "\n",
       "    .colab-df-convert {\n",
       "      background-color: #E8F0FE;\n",
       "      border: none;\n",
       "      border-radius: 50%;\n",
       "      cursor: pointer;\n",
       "      display: none;\n",
       "      fill: #1967D2;\n",
       "      height: 32px;\n",
       "      padding: 0 0 0 0;\n",
       "      width: 32px;\n",
       "    }\n",
       "\n",
       "    .colab-df-convert:hover {\n",
       "      background-color: #E2EBFA;\n",
       "      box-shadow: 0px 1px 2px rgba(60, 64, 67, 0.3), 0px 1px 3px 1px rgba(60, 64, 67, 0.15);\n",
       "      fill: #174EA6;\n",
       "    }\n",
       "\n",
       "    [theme=dark] .colab-df-convert {\n",
       "      background-color: #3B4455;\n",
       "      fill: #D2E3FC;\n",
       "    }\n",
       "\n",
       "    [theme=dark] .colab-df-convert:hover {\n",
       "      background-color: #434B5C;\n",
       "      box-shadow: 0px 1px 3px 1px rgba(0, 0, 0, 0.15);\n",
       "      filter: drop-shadow(0px 1px 2px rgba(0, 0, 0, 0.3));\n",
       "      fill: #FFFFFF;\n",
       "    }\n",
       "  </style>\n",
       "\n",
       "      <script>\n",
       "        const buttonEl =\n",
       "          document.querySelector('#df-19cccf5f-2c70-40c8-91e5-591f16a0647b button.colab-df-convert');\n",
       "        buttonEl.style.display =\n",
       "          google.colab.kernel.accessAllowed ? 'block' : 'none';\n",
       "\n",
       "        async function convertToInteractive(key) {\n",
       "          const element = document.querySelector('#df-19cccf5f-2c70-40c8-91e5-591f16a0647b');\n",
       "          const dataTable =\n",
       "            await google.colab.kernel.invokeFunction('convertToInteractive',\n",
       "                                                     [key], {});\n",
       "          if (!dataTable) return;\n",
       "\n",
       "          const docLinkHtml = 'Like what you see? Visit the ' +\n",
       "            '<a target=\"_blank\" href=https://colab.research.google.com/notebooks/data_table.ipynb>data table notebook</a>'\n",
       "            + ' to learn more about interactive tables.';\n",
       "          element.innerHTML = '';\n",
       "          dataTable['output_type'] = 'display_data';\n",
       "          await google.colab.output.renderOutput(dataTable, element);\n",
       "          const docLink = document.createElement('div');\n",
       "          docLink.innerHTML = docLinkHtml;\n",
       "          element.appendChild(docLink);\n",
       "        }\n",
       "      </script>\n",
       "    </div>\n",
       "  </div>\n",
       "  "
      ]
     },
     "metadata": {},
     "execution_count": 96
    }
   ]
  },
  {
   "cell_type": "code",
   "source": [
    "# from google.colab import files\n",
    "# files.download(\"submission_walkthrough.csv\") #download the csv"
   ],
   "metadata": {
    "id": "uXO3ubj21U1X"
   },
   "execution_count": 97,
   "outputs": []
  },
  {
   "cell_type": "markdown",
   "source": [
    "#  Task 6 Answer the questions below"
   ],
   "metadata": {
    "id": "4JEQbNtQtP9k"
   }
  },
  {
   "cell_type": "markdown",
   "source": [
    "**why a simple linear regression model  is not good for classification task,compared to Perceptron/Logistic regression?**"
   ],
   "metadata": {
    "id": "MF1rD2rFzTqY"
   }
  },
  {
   "cell_type": "markdown",
   "source": [
    "Simple linear regression can only separate two-dimensional data, and only use a line as a decision boundary.This is insufficient for higher-dimensional data, requiring a more complex classifier."
   ],
   "metadata": {
    "id": "wL5Cn9uwzs-D"
   }
  },
  {
   "cell_type": "markdown",
   "source": [
    "**What's a decision tree and how it is different to a logistic regression model?**"
   ],
   "metadata": {
    "id": "pUbIO4GMtQBH"
   }
  },
  {
   "cell_type": "markdown",
   "source": [
    "Logistic Regression presupposes that the data is separable in space linearly (or curving linearly). Decision Trees are non-linear classifiers that do not require linearly separable data."
   ],
   "metadata": {
    "id": "ZkTcK8rk_YPP"
   }
  },
  {
   "cell_type": "markdown",
   "source": [
    "**What's the difference between grid search and random search?**"
   ],
   "metadata": {
    "id": "uKBcluzUAKrS"
   }
  },
  {
   "cell_type": "markdown",
   "source": [
    "Grid Search performs a thorough search for each hyperparameter combination. Random search will sample combinations at random based on the iteration setting; not all values are tried, and the combinations tested are selected at random."
   ],
   "metadata": {
    "id": "yF0Tfx6qARiI"
   }
  },
  {
   "cell_type": "markdown",
   "source": [
    "**What's the difference between bayesian search and random search?**"
   ],
   "metadata": {
    "id": "6dpZ6mJ_U4Cs"
   }
  },
  {
   "cell_type": "markdown",
   "source": [
    "Bayesian optimization employs the previous iteration's result to determine the next hyperparameter value candidates. The main difference between Bayesian optimization and grid/random search is that grid and random search examine each hyperparameter combination independently, whereas Bayesian optimization relies on prior evaluation."
   ],
   "metadata": {
    "id": "bT5nCC5HFosq"
   }
  },
  {
   "cell_type": "markdown",
   "source": [
    "# Task 7 submit the csv to the leaderboards"
   ],
   "metadata": {
    "id": "nddDoixlCMZ9"
   }
  },
  {
   "cell_type": "markdown",
   "source": [
    "I used XGBClassifier in collaboration with BayesSearch to automatically tune the hyperparameters for 5 iterations. The model with the optimal parameters achieved an accuracy of 0.88935, outperforming the baseline model."
   ],
   "metadata": {
    "id": "HTgOayISCYys"
   }
  },
  {
   "cell_type": "markdown",
   "source": [
    "![WeChat Screenshot_20221024180515.png](data:image/png;base64,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)"
   ],
   "metadata": {
    "id": "ZIgAMPM9DYjF"
   }
  }
 ],
 "metadata": {
  "accelerator": "GPU",
  "colab": {
   "provenance": [],
   "collapsed_sections": []
  },
  "kernelspec": {
   "display_name": "Python 3",
   "language": "python",
   "name": "python3"
  },
  "language_info": {
   "codemirror_mode": {
    "name": "ipython",
    "version": 3
   },
   "file_extension": ".py",
   "mimetype": "text/x-python",
   "name": "python",
   "nbconvert_exporter": "python",
   "pygments_lexer": "ipython3",
   "version": "3.7.8"
  },
  "gpuClass": "standard"
 },
 "nbformat": 4,
 "nbformat_minor": 0
}
